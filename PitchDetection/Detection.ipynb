{
 "cells": [
  {
   "cell_type": "code",
   "id": "initial_id",
   "metadata": {
    "collapsed": true,
    "ExecuteTime": {
     "end_time": "2024-10-03T11:57:11.083714Z",
     "start_time": "2024-10-03T11:57:11.002749Z"
    }
   },
   "source": [
    "import ipympl\n",
    "import numpy as np                      \n",
    "import matplotlib.pyplot as plt\n",
    "import scipy.signal as sig\n",
    "from IPython.display import Audio\n",
    "import sounddevice as sd\n",
    "from scipy.io import wavfile\n",
    "%matplotlib ipympl\n",
    "\n",
    "fs, data = wavfile.read(\"../AudioFile/Actual.wav\")\n",
    "# set data to float 32 to make program fast.\n",
    "x_64 = data/0x8000\n",
    "x_32 = (np.float32(x_64[:,0]))\n",
    "# Devide audio into chuncks and define the audio clip i want to change\n",
    "chuncks = 40\n",
    "tot_samp = 200000\n",
    "chunck_size = int(tot_samp /chuncks)\n",
    "#Set start and stop of clip.\n",
    "start_cut = int(11647130/2 + 100000)\n",
    "stop_cut = int(start_cut+tot_samp)\n",
    "x = x_32[start_cut:stop_cut]\n",
    "# Keep original audio\n",
    "x_original = x.copy()\n",
    "\n",
    "start0 = 0\n",
    "stop0 = chunck_size"
   ],
   "outputs": [],
   "execution_count": 64
  },
  {
   "metadata": {
    "ExecuteTime": {
     "end_time": "2024-10-03T11:57:11.501561Z",
     "start_time": "2024-10-03T11:57:11.477102Z"
    }
   },
   "cell_type": "code",
   "outputs": [],
   "execution_count": 65,
   "source": [
    "#init n\n",
    "N = chunck_size\n",
    "n = np.arange(0, N)\n",
    "# loop trough audio\n",
    "for i in range(chuncks):\n",
    "    start = start0 + chunck_size*i\n",
    "    stop = stop0 + chunck_size*i\n",
    "    xn = x[start:stop] #defiene audio chunk\n",
    "    \n",
    "    wn = sig.windows.hann(N) #window function\n",
    "    xw = xn*wn  # apply window to audio chunk\n",
    "    Xm_w = np.fft.fft(xw) \n",
    "    \n",
    "    Xm_win = np.abs(Xm_w)\n",
    "    m_max = np.argmax(Xm_win) # Find index m of highest pitch.\n",
    "    #### Change audio#####\n",
    "    Xn = np.fft.fft(xn)\n",
    "    Xn[m_max] =Xn[m_max]*(10) # set pitch to verry large.\n",
    "    #### convert back to audio signal####\n",
    "    \n",
    "    yn = np.fft.ifft(Xn)\n",
    "    x[start:stop] = np.real(yn) # exchange new audio with old audio\n",
    "    \n",
    "\n",
    "\n",
    "\n",
    "\n"
   ],
   "id": "e05cd38f7a818f56"
  },
  {
   "metadata": {
    "ExecuteTime": {
     "end_time": "2024-10-03T11:57:23.459185Z",
     "start_time": "2024-10-03T11:57:23.430691Z"
    }
   },
   "cell_type": "code",
   "source": "sd.play(x_original) # Play original audio",
   "id": "db4e518e42c7a215",
   "outputs": [],
   "execution_count": 67
  },
  {
   "metadata": {
    "ExecuteTime": {
     "end_time": "2024-10-03T11:57:26.284427Z",
     "start_time": "2024-10-03T11:57:26.070880Z"
    }
   },
   "cell_type": "code",
   "source": "sd.play(x) # Play new audio",
   "id": "aadc79570c757bb4",
   "outputs": [],
   "execution_count": 68
  },
  {
   "metadata": {},
   "cell_type": "code",
   "outputs": [],
   "execution_count": null,
   "source": "",
   "id": "4beed02c02a9502e"
  }
 ],
 "metadata": {
  "kernelspec": {
   "display_name": "Python 3",
   "language": "python",
   "name": "python3"
  },
  "language_info": {
   "codemirror_mode": {
    "name": "ipython",
    "version": 2
   },
   "file_extension": ".py",
   "mimetype": "text/x-python",
   "name": "python",
   "nbconvert_exporter": "python",
   "pygments_lexer": "ipython2",
   "version": "2.7.6"
  }
 },
 "nbformat": 4,
 "nbformat_minor": 5
}
